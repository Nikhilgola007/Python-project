{
 "cells": [
  {
   "cell_type": "markdown",
   "metadata": {
    "id": "h_oJecVz__8Y"
   },
   "source": [
    "#Homework - 1\n",
    "\n",
    "\n",
    "1. create  x = \"I am learning Programming\" , and perform the below given statements\n",
    " * print(x[0:20])\n",
    " * simillarly try x[5:14]\n",
    " * x[-5]\n",
    " * x[3]\n",
    " * x[:21]\n",
    " * x[7:]\n",
    " * x[:]   ---> will print the enitre string\n",
    " * x[-10 :-2]\n",
    " * x[:-1]\n",
    " * x[len(x) : ]\n",
    " * x[0: : 2]\n",
    " * x[0: 20 : 5]\n",
    " * x[-20 : ]\n",
    " * x[ -len(x) : : 2 ]\n",
    " * x[-15 : -5 : 3]\n",
    "\n",
    "2. convert kilometers to meter, liters to mililiter\n",
    " > 1km = 1000m, 1liter = 1000ml\n",
    "\n",
    "\n",
    "Questions related to strings & string methods :\n",
    "* https://drive.google.com/file/d/1qQqHaXhCw26OmBhYAiu983Ywd1RuN_os/view?usp=sharing \n",
    "\n",
    "\n",
    " "
   ]
  },
  {
   "cell_type": "code",
   "execution_count": null,
   "metadata": {},
   "outputs": [],
   "source": []
  },
  {
   "cell_type": "code",
   "execution_count": 7,
   "metadata": {},
   "outputs": [
    {
     "name": "stdout",
     "output_type": "stream",
     "text": [
      "I am learning Program\n",
      "I am learning Programmin\n",
      "[25]\n"
     ]
    }
   ],
   "source": [
    "x = \"I am learning Programming\" \n",
    "print(x[:21])\n",
    "print(x[:-1])\n",
    "print([len(x) ])"
   ]
  },
  {
   "cell_type": "markdown",
   "metadata": {
    "id": "a-J3K2UOJp6U"
   },
   "source": [
    "#String:\n",
    "A string is a collection of characters. In Python, any data that is enclosed in **single or double quotations** is considered as a string.\n",
    "\n",
    "\n",
    "---\n",
    "\n",
    "\n",
    "You can use three double quotes to define a string in multiple lines.\n",
    "Note: in the result, the line breaks are inserted at the same position as in the code.\n"
   ]
  },
  {
   "cell_type": "code",
   "execution_count": null,
   "metadata": {
    "colab": {
     "base_uri": "https://localhost:8080/"
    },
    "executionInfo": {
     "elapsed": 369,
     "status": "ok",
     "timestamp": 1636593541547,
     "user": {
      "displayName": "Akshita Jain",
      "photoUrl": "https://lh3.googleusercontent.com/a-/AOh14GhRl4QbaRHRJmTQyBqVdXmet36llHYFgx9IQdVmtg=s64",
      "userId": "15547845487896249647"
     },
     "user_tz": -330
    },
    "id": "XqhXwZ7kbIlm",
    "outputId": "70f1587e-5084-4ca1-aa38-c4d34dfdefd9"
   },
   "outputs": [
    {
     "data": {
      "text/plain": [
       "str"
      ]
     },
     "execution_count": 7,
     "metadata": {},
     "output_type": "execute_result"
    }
   ],
   "source": [
    "Greeting = \"Good morning!\"  # single line string data type\n",
    "t=2\n",
    "t=2.3\n",
    "type(Greeting)\n",
    "type(t)\n",
    "# print(Greeting)"
   ]
  },
  {
   "cell_type": "markdown",
   "metadata": {
    "id": "rnypHFmJau0n"
   },
   "source": [
    "### Multiline string "
   ]
  },
  {
   "cell_type": "code",
   "execution_count": null,
   "metadata": {
    "colab": {
     "base_uri": "https://localhost:8080/"
    },
    "executionInfo": {
     "elapsed": 385,
     "status": "ok",
     "timestamp": 1636593756850,
     "user": {
      "displayName": "Akshita Jain",
      "photoUrl": "https://lh3.googleusercontent.com/a-/AOh14GhRl4QbaRHRJmTQyBqVdXmet36llHYFgx9IQdVmtg=s64",
      "userId": "15547845487896249647"
     },
     "user_tz": -330
    },
    "id": "tAj3Axpba9ef",
    "outputId": "a51baf1d-db31-488c-9ef5-7bda08b75d2d"
   },
   "outputs": [
    {
     "name": "stdout",
     "output_type": "stream",
     "text": [
      "hello!\n",
      "this string is defined in multiple lines\n"
     ]
    }
   ],
   "source": [
    "a=\"\"\"hello!\n",
    "this string is defined in multiple lines\"\"\"\n",
    "print(a)"
   ]
  },
  {
   "cell_type": "code",
   "execution_count": null,
   "metadata": {
    "colab": {
     "base_uri": "https://localhost:8080/"
    },
    "executionInfo": {
     "elapsed": 374,
     "status": "ok",
     "timestamp": 1636593763997,
     "user": {
      "displayName": "Akshita Jain",
      "photoUrl": "https://lh3.googleusercontent.com/a-/AOh14GhRl4QbaRHRJmTQyBqVdXmet36llHYFgx9IQdVmtg=s64",
      "userId": "15547845487896249647"
     },
     "user_tz": -330
    },
    "id": "B-VTw-6EvHP_",
    "outputId": "feba1ccb-095d-4552-eb1c-5d50b70a9d19"
   },
   "outputs": [
    {
     "name": "stdout",
     "output_type": "stream",
     "text": [
      "My name is Nayonika\n",
      "My name is Zoha\n",
      "My name is Amishi \n"
     ]
    }
   ],
   "source": [
    "Task=\"\"\"My name is Nayonika\n",
    "My name is Zoha\n",
    "My name is Amishi \"\"\"\n",
    "print(Task)"
   ]
  },
  {
   "cell_type": "code",
   "execution_count": null,
   "metadata": {
    "id": "h5O0dDNeB5m9"
   },
   "outputs": [],
   "source": [
    "x=5\n",
    "print(x%2==0)\n",
    "# mod"
   ]
  },
  {
   "cell_type": "code",
   "execution_count": null,
   "metadata": {
    "id": "T_Qb_5kJFc7h"
   },
   "outputs": [],
   "source": [
    "a = \"\"\"My name is Shaili!\n",
    "I am a Little Inventor\"\"\"\n",
    "print(a)"
   ]
  },
  {
   "cell_type": "markdown",
   "metadata": {
    "id": "nEwXFKUHOFEK"
   },
   "source": [
    "## Length of a string:\n",
    " It is the **number of characters** that the string has.\n",
    "\n",
    "![alt text](https://cs.stanford.edu/people/nick/py/img/python-str-index.png)\n",
    "\n",
    "**Syntax:** \n",
    "```\n",
    "len(string)\n",
    "```"
   ]
  },
  {
   "cell_type": "code",
   "execution_count": null,
   "metadata": {
    "colab": {
     "base_uri": "https://localhost:8080/"
    },
    "executionInfo": {
     "elapsed": 1218,
     "status": "ok",
     "timestamp": 1619677739791,
     "user": {
      "displayName": "Somaraju LD",
      "photoUrl": "",
      "userId": "06442596576645839872"
     },
     "user_tz": -330
    },
    "id": "hBSatt3nOgch",
    "outputId": "0923ab77-f4bb-4972-d636-3ed6e7fd6b00"
   },
   "outputs": [
    {
     "name": "stdout",
     "output_type": "stream",
     "text": [
      "5\n",
      "12\n",
      "29\n"
     ]
    }
   ],
   "source": [
    "a = \"Python is Fun for Learning!!!\"\n",
    "print(len(\"Hello\"))\n",
    "print(len(\"Good morning\"))   # here space is also considered as a single charecter\n",
    "print(len(a))\n",
    "# ASCII - American standard code for Information Interchange"
   ]
  },
  {
   "cell_type": "markdown",
   "metadata": {
    "id": "llHGZFTwmWHy"
   },
   "source": [
    "## String Concatenation\n",
    "Two or more strings can be joined using + operator."
   ]
  },
  {
   "cell_type": "code",
   "execution_count": null,
   "metadata": {
    "colab": {
     "base_uri": "https://localhost:8080/"
    },
    "executionInfo": {
     "elapsed": 8,
     "status": "ok",
     "timestamp": 1637498889471,
     "user": {
      "displayName": "Akshita Jain",
      "photoUrl": "https://lh3.googleusercontent.com/a-/AOh14GhRl4QbaRHRJmTQyBqVdXmet36llHYFgx9IQdVmtg=s64",
      "userId": "15547845487896249647"
     },
     "user_tz": -330
    },
    "id": "StBxnR2KmU13",
    "outputId": "90df6bba-ce07-4cb7-bb00-585f994ef3e7"
   },
   "outputs": [
    {
     "name": "stdout",
     "output_type": "stream",
     "text": [
      "LearnPython\n",
      "Learn Python Sarvessh\n",
      "15\n"
     ]
    }
   ],
   "source": [
    "text_1 = 'Learn'\n",
    "text_2 = 'Python'\n",
    "MyString = text_1 + text_2\n",
    "print(MyString)\n",
    "\n",
    "MyString = text_1 + \" \" + text_2 + \" \" +\"Sarvessh\"\n",
    "print(MyString)\n",
    "\n",
    "# string are immutable - \n",
    "\n",
    "y=7\n",
    "o=8\n",
    "print(y+o)"
   ]
  },
  {
   "cell_type": "markdown",
   "metadata": {
    "id": "YkNVtnufbx6_"
   },
   "source": [
    "## Check a character(s) in the String\n",
    "If control statement is used to check whether the string contains specified character(s) or not.\n",
    "\n"
   ]
  },
  {
   "cell_type": "code",
   "execution_count": null,
   "metadata": {
    "colab": {
     "base_uri": "https://localhost:8080/"
    },
    "executionInfo": {
     "elapsed": 460,
     "status": "ok",
     "timestamp": 1637499080795,
     "user": {
      "displayName": "Akshita Jain",
      "photoUrl": "https://lh3.googleusercontent.com/a-/AOh14GhRl4QbaRHRJmTQyBqVdXmet36llHYFgx9IQdVmtg=s64",
      "userId": "15547845487896249647"
     },
     "user_tz": -330
    },
    "id": "AeAz9_8ymmcC",
    "outputId": "c93ce494-5006-42f2-88ab-e7f0a9b19ddf"
   },
   "outputs": [
    {
     "name": "stdout",
     "output_type": "stream",
     "text": [
      "No, It is not present in the string.\n"
     ]
    }
   ],
   "source": [
    "MyString = 'I am learning Python programming.'\n",
    "if 'learning' in MyString:\n",
    "  print('Yes, It is present in the string.')\n",
    "else:\n",
    "  print('No, It is not present in the string.')"
   ]
  },
  {
   "cell_type": "code",
   "execution_count": null,
   "metadata": {
    "colab": {
     "base_uri": "https://localhost:8080/"
    },
    "executionInfo": {
     "elapsed": 456,
     "status": "ok",
     "timestamp": 1636595912317,
     "user": {
      "displayName": "Akshita Jain",
      "photoUrl": "https://lh3.googleusercontent.com/a-/AOh14GhRl4QbaRHRJmTQyBqVdXmet36llHYFgx9IQdVmtg=s64",
      "userId": "15547845487896249647"
     },
     "user_tz": -330
    },
    "id": "kUBGBYxuUdk8",
    "outputId": "a2057ae9-dcbc-4f09-d4e0-19bb30713ad4"
   },
   "outputs": [
    {
     "name": "stdout",
     "output_type": "stream",
     "text": [
      "True\n",
      "False\n",
      "False\n",
      "True\n",
      "False\n",
      "r\n"
     ]
    }
   ],
   "source": [
    "MyString = 'I am learning Python programming.'\n",
    "\n",
    "print(\"e\" in  MyString)\n",
    "print(\"z\" in  MyString)\n",
    "print(5==9)\n",
    "print(\"earn\" in  MyString)\n",
    "print(\"earnf\" in  MyString) # this \"earnf\" sequence of letters are not present in the string"
   ]
  },
  {
   "cell_type": "code",
   "execution_count": null,
   "metadata": {
    "colab": {
     "base_uri": "https://localhost:8080/"
    },
    "executionInfo": {
     "elapsed": 6,
     "status": "ok",
     "timestamp": 1637499673986,
     "user": {
      "displayName": "Akshita Jain",
      "photoUrl": "https://lh3.googleusercontent.com/a-/AOh14GhRl4QbaRHRJmTQyBqVdXmet36llHYFgx9IQdVmtg=s64",
      "userId": "15547845487896249647"
     },
     "user_tz": -330
    },
    "id": "VXomoylhvDkY",
    "outputId": "eedec415-d456-4086-89ad-6e4a54e5004d"
   },
   "outputs": [
    {
     "name": "stdout",
     "output_type": "stream",
     "text": [
      "r\n",
      "I am\n",
      "na\n"
     ]
    }
   ],
   "source": [
    "t=\"Pranav I am in 8th grade\"\n",
    "print(t[1])\n",
    "print(t[7:11])\n",
    "print(t[3:6])"
   ]
  },
  {
   "cell_type": "code",
   "execution_count": null,
   "metadata": {
    "colab": {
     "base_uri": "https://localhost:8080/"
    },
    "executionInfo": {
     "elapsed": 378,
     "status": "ok",
     "timestamp": 1637500059877,
     "user": {
      "displayName": "Akshita Jain",
      "photoUrl": "https://lh3.googleusercontent.com/a-/AOh14GhRl4QbaRHRJmTQyBqVdXmet36llHYFgx9IQdVmtg=s64",
      "userId": "15547845487896249647"
     },
     "user_tz": -330
    },
    "id": "1jQh1ynXlnXk",
    "outputId": "047ee890-8e5c-47c4-9c7b-b6360a129f42"
   },
   "outputs": [
    {
     "name": "stdout",
     "output_type": "stream",
     "text": [
      "ht\n"
     ]
    }
   ],
   "source": [
    "p=\"Akshita\"\n",
    "print(p[-4:-1:2])"
   ]
  },
  {
   "cell_type": "markdown",
   "metadata": {
    "id": "Bzp4U_iibyIW"
   },
   "source": [
    "\n",
    " ## Indexing for Strings: \n",
    "\n",
    "![alt text](https://encrypted-tbn0.gstatic.com/images?q=tbn:ANd9GcTSTzgNNA5DCsIkR5yRVxJRxOmLVrnxOv67XA&usqp=CAU)  ![alt text](https://encrypted-tbn0.gstatic.com/images?q=tbn:ANd9GcQK4F4OFLGqwDh1kFAaVVRjX9rpPTcM6mwj4w&usqp=CAU) \n",
    "\n",
    "<img src=\"https://www.alphacodingskills.com/python/img/python-string.png\" height =\"100\">\n",
    "\n",
    "\n",
    "<img src=\"https://miro.medium.com/max/2148/1*o39ju45s6C7IcI3K0nmE6Q.png\" height= \"88\" width = \"600\">\n"
   ]
  },
  {
   "cell_type": "markdown",
   "metadata": {
    "id": "_YGy-HwkjxJB"
   },
   "source": [
    "## Slicing:\n",
    "\n",
    "\n",
    "Slicing is done in a string to obtain sub-strings of the original string. Python allows us to specify where to start slicing, and where to end. Also, we can specify the step value as shown in the below syntax.\n",
    "\n",
    "> **Syntax:**\n",
    "\n",
    ">>*string_object[start : stop : steps]*\n",
    "\n",
    "\n",
    "Here, slicing starts from the index 'start' and ends at the index 'stop' in the step of 'steps'. The default value for\n",
    "\n",
    "* **start** - 0\n",
    "\n",
    "* **stop** - the last index of the string and\n",
    "\n",
    "* **step** - 1\n",
    "\n",
    "> 1. string_object**[: stop]** will slice the given string from starting, until 'stop' index \n",
    "2. And string_object**[start: ]** will slice the given string from 'start' index until the end of the string.\n",
    "\n",
    "<img src=\"https://i1.faceprep.in/Companies-1/string-slicing-in-python.png\" height=\"150\">\n",
    "\n",
    "<img src=\"https://static.javatpoint.com/python/images/strings-indexing-and-splitting3.png\" height=\"220\">\n",
    "\n",
    "\n",
    "\n",
    "\n",
    "\n",
    "\n",
    "\n",
    "\n",
    "\n",
    "\n"
   ]
  },
  {
   "cell_type": "code",
   "execution_count": 6,
   "metadata": {
    "colab": {
     "base_uri": "https://localhost:8080/"
    },
    "executionInfo": {
     "elapsed": 505,
     "status": "ok",
     "timestamp": 1639885781976,
     "user": {
      "displayName": "Akshita Jain",
      "photoUrl": "https://lh3.googleusercontent.com/a-/AOh14GhRl4QbaRHRJmTQyBqVdXmet36llHYFgx9IQdVmtg=s64",
      "userId": "15547845487896249647"
     },
     "user_tz": -330
    },
    "id": "3bu39TqQeHZ4",
    "outputId": "4a01b3a8-ecac-4ddd-d505-8f237799dcf9"
   },
   "outputs": [
    {
     "name": "stdout",
     "output_type": "stream",
     "text": [
      "st\n",
      "rin\n",
      "tig\n",
      "tri\n",
      "gnirts\n"
     ]
    }
   ],
   "source": [
    "x = \"string\"             #tig\n",
    "print(x[0:2])\n",
    "print(x[2:5])\n",
    "print(x[1::2])\n",
    "print(x[-5:-2])\n",
    "print(x[::-1])"
   ]
  },
  {
   "cell_type": "code",
   "execution_count": null,
   "metadata": {
    "colab": {
     "base_uri": "https://localhost:8080/"
    },
    "executionInfo": {
     "elapsed": 695,
     "status": "ok",
     "timestamp": 1639819029692,
     "user": {
      "displayName": "Akshita Jain",
      "photoUrl": "https://lh3.googleusercontent.com/a-/AOh14GhRl4QbaRHRJmTQyBqVdXmet36llHYFgx9IQdVmtg=s64",
      "userId": "15547845487896249647"
     },
     "user_tz": -330
    },
    "id": "j7klvKvK3s3g",
    "outputId": "2a067a76-9e7f-4ab3-b83c-ea0f8e10d748"
   },
   "outputs": [
    {
     "name": "stdout",
     "output_type": "stream",
     "text": [
      "mhith\n"
     ]
    }
   ],
   "source": [
    "s=\"Samhitha\"\n",
    "# print(s[::-1])\n",
    "print(s[2:7])"
   ]
  },
  {
   "cell_type": "markdown",
   "metadata": {
    "id": "ORrSn0TMmC6S"
   },
   "source": [
    "## Using positive indexing\n",
    "\n",
    "Python program to slice the given string using positive indexing"
   ]
  },
  {
   "cell_type": "code",
   "execution_count": null,
   "metadata": {
    "colab": {
     "base_uri": "https://localhost:8080/"
    },
    "executionInfo": {
     "elapsed": 374,
     "status": "ok",
     "timestamp": 1639819060410,
     "user": {
      "displayName": "Akshita Jain",
      "photoUrl": "https://lh3.googleusercontent.com/a-/AOh14GhRl4QbaRHRJmTQyBqVdXmet36llHYFgx9IQdVmtg=s64",
      "userId": "15547845487896249647"
     },
     "user_tz": -330
    },
    "id": "H4QW3CTflqN5",
    "outputId": "3bebb9c4-e643-45d0-ede3-b1a1968dc61c"
   },
   "outputs": [
    {
     "name": "stdout",
     "output_type": "stream",
     "text": [
      "FACE\n",
      "FC rp\n"
     ]
    }
   ],
   "source": [
    "\n",
    "#Python program to slice the string \"FACE Prep\" using positive indexing\n",
    "str1 = \"FACE Prep\"\n",
    "#printing the sliced sub-string from the index 0 to 3\n",
    "print(str1[0:4])  # str1[0:4 : 1]\n",
    "#printing the sliced sub-string from the index 0 to 9 in steps of 2\n",
    "print(str1[0:9:2])# variable[start : stop : step]\n"
   ]
  },
  {
   "cell_type": "markdown",
   "metadata": {
    "id": "rpa8NY7emFmS"
   },
   "source": [
    "## Using negative indexing\n",
    "\n",
    "Under the concept of negative indexing, the index value of the last character of the string is always -1. Using negative indexing, we can easily retrieve the last character of the string without knowing its entire length."
   ]
  },
  {
   "cell_type": "code",
   "execution_count": null,
   "metadata": {
    "colab": {
     "base_uri": "https://localhost:8080/"
    },
    "executionInfo": {
     "elapsed": 9,
     "status": "ok",
     "timestamp": 1639819678039,
     "user": {
      "displayName": "Akshita Jain",
      "photoUrl": "https://lh3.googleusercontent.com/a-/AOh14GhRl4QbaRHRJmTQyBqVdXmet36llHYFgx9IQdVmtg=s64",
      "userId": "15547845487896249647"
     },
     "user_tz": -330
    },
    "id": "WwqBEa3sl_qC",
    "outputId": "4576e1bf-f9d9-48ee-dbea-fe8328e825a5"
   },
   "outputs": [
    {
     "name": "stdout",
     "output_type": "stream",
     "text": [
      "p\n",
      "e\n",
      "Pre\n",
      "FACE\n"
     ]
    }
   ],
   "source": [
    "#Python program to slice the string \"FACE Prep\" using negative indexing\n",
    "str1 = \"FACE Prep\"\n",
    "#printing the last character\n",
    "print(str1[-1])\n",
    "#printing the second last character\n",
    "print(str1[-2])\n",
    "#printing the sliced sub-string from the index -4 to -3\n",
    "# print(str1[-4:-2])\n",
    "print(str1[-4:-1])    #Pre\n",
    "#printing the sliced sub-string from the index -10 to -6\n",
    "print(str1[-10:-5])        #"
   ]
  },
  {
   "cell_type": "code",
   "execution_count": null,
   "metadata": {
    "colab": {
     "base_uri": "https://localhost:8080/"
    },
    "executionInfo": {
     "elapsed": 377,
     "status": "ok",
     "timestamp": 1639819771101,
     "user": {
      "displayName": "Akshita Jain",
      "photoUrl": "https://lh3.googleusercontent.com/a-/AOh14GhRl4QbaRHRJmTQyBqVdXmet36llHYFgx9IQdVmtg=s64",
      "userId": "15547845487896249647"
     },
     "user_tz": -330
    },
    "id": "e3N0PbSF3xNb",
    "outputId": "a1bc8477-2178-4ae5-e38d-3a44d37013c8"
   },
   "outputs": [
    {
     "name": "stdout",
     "output_type": "stream",
     "text": [
      "hit\n"
     ]
    }
   ],
   "source": [
    "s=\"Samhitha\"\n",
    "print(s[-5:-2])"
   ]
  },
  {
   "cell_type": "markdown",
   "metadata": {
    "id": "cg3tsKK1mvW6"
   },
   "source": [
    "# String **format()** Method\n",
    "Strings can not be added with numbers by using + operator. For combining string with a number, format method is used. A user can pass parameter(s) in format() method, which is further placed into its respective **placeholder** **{}**. This method can take unlimited number of parameters. Along with this, an index number (starts with 0) can also be used with placeholders. Please see example below:\n",
    "\n"
   ]
  },
  {
   "cell_type": "code",
   "execution_count": null,
   "metadata": {
    "colab": {
     "base_uri": "https://localhost:8080/"
    },
    "executionInfo": {
     "elapsed": 10,
     "status": "ok",
     "timestamp": 1626079273828,
     "user": {
      "displayName": "Thanya Komakula",
      "photoUrl": "",
      "userId": "17336295396023878126"
     },
     "user_tz": -330
    },
    "id": "-ug7WWU5mzFD",
    "outputId": "e97ef4fb-6a74-4a32-fc80-f0c671a0156e"
   },
   "outputs": [
    {
     "name": "stdout",
     "output_type": "stream",
     "text": [
      "I will reach office at 9 hrs and leave office at 18 hrs.\n",
      "I will reach office at 9 hrs and leave office at 18 hrs.\n"
     ]
    }
   ],
   "source": [
    "# METHOD - 1\n",
    "in_time = 9\n",
    "out_time = 18\n",
    "print(\"I will reach office at {} hrs and leave office at {} hrs.\").format(in_time, out_time)\n",
    "\n",
    "in_time = 9\n",
    "out_time = 18\n",
    "MyString = \"I will reach office at {1} hrs and leave office at {0} hrs.\"\n",
    "print(MyString.format(out_time, in_time))"
   ]
  },
  {
   "cell_type": "code",
   "execution_count": null,
   "metadata": {
    "colab": {
     "base_uri": "https://localhost:8080/"
    },
    "executionInfo": {
     "elapsed": 414,
     "status": "ok",
     "timestamp": 1638188244035,
     "user": {
      "displayName": "Akshita Jain",
      "photoUrl": "https://lh3.googleusercontent.com/a-/AOh14GhRl4QbaRHRJmTQyBqVdXmet36llHYFgx9IQdVmtg=s64",
      "userId": "15547845487896249647"
     },
     "user_tz": -330
    },
    "id": "A-J9GLlMm3mT",
    "outputId": "854bb8fd-416b-4169-95ef-1e362b34a747"
   },
   "outputs": [
    {
     "name": "stdout",
     "output_type": "stream",
     "text": [
      "I will reach office at 18 hrs and leave office at 9 hrs.\n"
     ]
    }
   ],
   "source": [
    "# METHOD - 2\n",
    "in_time = 9\n",
    "out_time = 18\n",
    "MyString = f\"I will reach office at {out_time} hrs and leave office at {in_time} hrs.\"\n",
    "print(MyString)"
   ]
  },
  {
   "cell_type": "code",
   "execution_count": null,
   "metadata": {
    "colab": {
     "base_uri": "https://localhost:8080/"
    },
    "executionInfo": {
     "elapsed": 550,
     "status": "ok",
     "timestamp": 1639820028582,
     "user": {
      "displayName": "Akshita Jain",
      "photoUrl": "https://lh3.googleusercontent.com/a-/AOh14GhRl4QbaRHRJmTQyBqVdXmet36llHYFgx9IQdVmtg=s64",
      "userId": "15547845487896249647"
     },
     "user_tz": -330
    },
    "id": "hObbSHW84wqE",
    "outputId": "3fcdb886-bb2d-4b0b-d8b0-0ce060de6c56"
   },
   "outputs": [
    {
     "name": "stdout",
     "output_type": "stream",
     "text": [
      "5\n"
     ]
    }
   ],
   "source": [
    "a=5\n",
    "print(f\"{a}\")"
   ]
  },
  {
   "cell_type": "code",
   "execution_count": null,
   "metadata": {
    "colab": {
     "base_uri": "https://localhost:8080/"
    },
    "executionInfo": {
     "elapsed": 630,
     "status": "ok",
     "timestamp": 1639820070315,
     "user": {
      "displayName": "Akshita Jain",
      "photoUrl": "https://lh3.googleusercontent.com/a-/AOh14GhRl4QbaRHRJmTQyBqVdXmet36llHYFgx9IQdVmtg=s64",
      "userId": "15547845487896249647"
     },
     "user_tz": -330
    },
    "id": "vjP99piE7JNR",
    "outputId": "c7e6b971-a4c8-4af7-e6de-d695300de4f2"
   },
   "outputs": [
    {
     "name": "stdout",
     "output_type": "stream",
     "text": [
      "hello hello!\n"
     ]
    }
   ],
   "source": [
    "s=\"hello\"\n",
    "print(f\"{s} {s}!\")"
   ]
  },
  {
   "cell_type": "code",
   "execution_count": null,
   "metadata": {
    "colab": {
     "base_uri": "https://localhost:8080/"
    },
    "executionInfo": {
     "elapsed": 5228,
     "status": "ok",
     "timestamp": 1639820588677,
     "user": {
      "displayName": "Akshita Jain",
      "photoUrl": "https://lh3.googleusercontent.com/a-/AOh14GhRl4QbaRHRJmTQyBqVdXmet36llHYFgx9IQdVmtg=s64",
      "userId": "15547845487896249647"
     },
     "user_tz": -330
    },
    "id": "hRqigssH6oOh",
    "outputId": "4a47de5f-d3a5-4501-884d-ca414a05707f"
   },
   "outputs": [
    {
     "name": "stdout",
     "output_type": "stream",
     "text": [
      "Type you nameakshita\n",
      "akshita\n"
     ]
    }
   ],
   "source": [
    "y=input(\"Type you name\")\n",
    "print(f\"{y}\")"
   ]
  },
  {
   "cell_type": "markdown",
   "metadata": {
    "id": "q7_e9qW5lqYp"
   },
   "source": [
    "# ESCAPE Charecters\n",
    "\n",
    "An escape character is a backslash \\ followed by the character you want to insert.\n",
    "* To insert characters that are illegal in a string, use an escape character.\n",
    ">An example of an illegal character is a double quote inside a string that is surrounded by double quotes:\n"
   ]
  },
  {
   "cell_type": "code",
   "execution_count": 8,
   "metadata": {
    "colab": {
     "base_uri": "https://localhost:8080/"
    },
    "executionInfo": {
     "elapsed": 485,
     "status": "ok",
     "timestamp": 1639886028465,
     "user": {
      "displayName": "Akshita Jain",
      "photoUrl": "https://lh3.googleusercontent.com/a-/AOh14GhRl4QbaRHRJmTQyBqVdXmet36llHYFgx9IQdVmtg=s64",
      "userId": "15547845487896249647"
     },
     "user_tz": -330
    },
    "id": "U3XGaQKHI-Z7",
    "outputId": "ef5c9982-f813-4314-e341-73f3e3687124"
   },
   "outputs": [
    {
     "name": "stdout",
     "output_type": "stream",
     "text": [
      "Akshita's\"hey\n"
     ]
    }
   ],
   "source": [
    "# Akshita's\"hey\n",
    "print(\"Akshita\\'s\\\"hey\")"
   ]
  },
  {
   "cell_type": "code",
   "execution_count": null,
   "metadata": {
    "colab": {
     "base_uri": "https://localhost:8080/"
    },
    "executionInfo": {
     "elapsed": 9,
     "status": "ok",
     "timestamp": 1638188394308,
     "user": {
      "displayName": "Akshita Jain",
      "photoUrl": "https://lh3.googleusercontent.com/a-/AOh14GhRl4QbaRHRJmTQyBqVdXmet36llHYFgx9IQdVmtg=s64",
      "userId": "15547845487896249647"
     },
     "user_tz": -330
    },
    "id": "h8l5N66Oopif",
    "outputId": "2967c759-9dde-477e-e3d4-4db4423db244"
   },
   "outputs": [
    {
     "name": "stdout",
     "output_type": "stream",
     "text": [
      "Dhruv\"s\n"
     ]
    }
   ],
   "source": [
    "d=\"Dhruv\\\"s\"\n",
    "print(d)"
   ]
  },
  {
   "cell_type": "code",
   "execution_count": null,
   "metadata": {
    "colab": {
     "base_uri": "https://localhost:8080/"
    },
    "executionInfo": {
     "elapsed": 7,
     "status": "ok",
     "timestamp": 1637928757735,
     "user": {
      "displayName": "Akshita Jain",
      "photoUrl": "https://lh3.googleusercontent.com/a-/AOh14GhRl4QbaRHRJmTQyBqVdXmet36llHYFgx9IQdVmtg=s64",
      "userId": "15547845487896249647"
     },
     "user_tz": -330
    },
    "id": "XEbqdeC3DJTt",
    "outputId": "8de10e5d-6aef-4162-9469-824c7e08a9bf"
   },
   "outputs": [
    {
     "name": "stdout",
     "output_type": "stream",
     "text": [
      "We are the so-called \"Vikings\" from the north.\n",
      "Pranav\r",
      "a \bk\tsh\n"
     ]
    }
   ],
   "source": [
    "# Example\n",
    "# you will get an error if you use double quotes inside a string that is surrounded by double quotes:\n",
    "\n",
    "txt = \"We are the so-called 'Vikings' from the north.\"\n",
    "# To fix this problem, use the escape character \\\":\n",
    "\n",
    "#Example\n",
    "# The escape character allows you to use double quotes when you normally would not be allowed:\n",
    "\n",
    "txt = \"We are the so-called \\\"Vikings\\\" from the north.\"\n",
    "print(txt)\n",
    "\n",
    "# h='Pranav\\ra \\bk\\tsh'\n",
    "# print(h)"
   ]
  },
  {
   "cell_type": "code",
   "execution_count": null,
   "metadata": {
    "id": "Y0u3vqiLDa9d"
   },
   "outputs": [],
   "source": [
    "# Other escape characters used in Python:\n",
    "\n",
    "#Code\t          Result\tTry it\n",
    "\\'\t\t          Single Quote\t\n",
    "\\\\\t\t          Backslash\t\n",
    "\\n\t\t          New Line\t\n",
    "\\r\t\t          Carriage Return\t- remove string before \\r and print after \\r\n",
    "\\t\t\t          Tab\t- space \n",
    "\\b\t\t          Backspace\t- remove space before slash\n",
    "\\f\t\t          Form Feed\t\n",
    "\\ooo\t\t        Octal value\t\n",
    "\\xhh\t\t        Hex value"
   ]
  },
  {
   "cell_type": "code",
   "execution_count": null,
   "metadata": {
    "colab": {
     "base_uri": "https://localhost:8080/"
    },
    "executionInfo": {
     "elapsed": 569,
     "status": "ok",
     "timestamp": 1636767698830,
     "user": {
      "displayName": "Akshita Jain",
      "photoUrl": "https://lh3.googleusercontent.com/a-/AOh14GhRl4QbaRHRJmTQyBqVdXmet36llHYFgx9IQdVmtg=s64",
      "userId": "15547845487896249647"
     },
     "user_tz": -330
    },
    "id": "KmxWzPVA8qu2",
    "outputId": "e8332034-64b4-43ca-c8a1-73d083799548"
   },
   "outputs": [
    {
     "name": "stdout",
     "output_type": "stream",
     "text": [
      "hey\n",
      "wow\r",
      "gyyyy\n",
      "12\t12\n"
     ]
    }
   ],
   "source": [
    "print(\"hey\",end=\"\\n\")\n",
    "print(\"wow\\bgyyyy\")\n",
    "print(\"12\\t12\")"
   ]
  },
  {
   "cell_type": "code",
   "execution_count": null,
   "metadata": {
    "colab": {
     "base_uri": "https://localhost:8080/"
    },
    "executionInfo": {
     "elapsed": 419,
     "status": "ok",
     "timestamp": 1637928917995,
     "user": {
      "displayName": "Akshita Jain",
      "photoUrl": "https://lh3.googleusercontent.com/a-/AOh14GhRl4QbaRHRJmTQyBqVdXmet36llHYFgx9IQdVmtg=s64",
      "userId": "15547845487896249647"
     },
     "user_tz": -330
    },
    "id": "Pk1kCyVRDtqF",
    "outputId": "ddc837e5-7c6d-4e31-d6a0-1831b72e7d0c"
   },
   "outputs": [
    {
     "name": "stdout",
     "output_type": "stream",
     "text": [
      "It's alright.\n",
      "Hello\n",
      "World!\n",
      "This will insert one \\ (backslash).\n",
      "Hello\tWorld!\n",
      " WHat Hello what\r",
      "World! Ewww\n",
      "Hello \bWorld!\n",
      "Hello\n",
      "Hello\n"
     ]
    }
   ],
   "source": [
    "#   EXAMPLES: \n",
    "txt = 'It\\'s alright.'\n",
    "print(txt) \n",
    "\n",
    "txt = \"Hello\\nWorld!\"\n",
    "print(txt) \n",
    "\n",
    "txt = \"This will insert one \\\\ (backslash).\"\n",
    "print(txt) \n",
    "\n",
    "txt = \"Hello\\tWorld!\"\n",
    "print(txt) \n",
    "  \n",
    "txt = \" WHat Hello what\\rWorld! Ewww\"\n",
    "print(txt) \n",
    "\n",
    "# This example erases one character (backspace):\n",
    "txt = \"Hello \\bWorld!\"\n",
    "print(txt) \n",
    "\n",
    "#A backslash followed by three integers will result in a octal value:\n",
    "txt = \"\\110\\145\\154\\154\\157\"\n",
    "print(txt) \n",
    "\n",
    "#A backslash followed by an 'x' and a hex number represents a hex value:\n",
    "txt = \"\\x48\\x65\\x6c\\x6c\\x6f\"\n",
    "print(txt) "
   ]
  },
  {
   "cell_type": "code",
   "execution_count": 9,
   "metadata": {
    "colab": {
     "base_uri": "https://localhost:8080/"
    },
    "executionInfo": {
     "elapsed": 491,
     "status": "ok",
     "timestamp": 1639886469892,
     "user": {
      "displayName": "Akshita Jain",
      "photoUrl": "https://lh3.googleusercontent.com/a-/AOh14GhRl4QbaRHRJmTQyBqVdXmet36llHYFgx9IQdVmtg=s64",
      "userId": "15547845487896249647"
     },
     "user_tz": -330
    },
    "id": "wKYqAf_w-E8s",
    "outputId": "16b15bac-1b5c-438a-adce-22d96dba7054"
   },
   "outputs": [
    {
     "name": "stdout",
     "output_type": "stream",
     "text": [
      "\\abc\t\n",
      "what\\\n",
      "op\n"
     ]
    }
   ],
   "source": [
    "u=\"\\\\abc\\t\\nwhat\\\\\\nop\"\n",
    "print(u)"
   ]
  },
  {
   "cell_type": "code",
   "execution_count": 10,
   "metadata": {
    "colab": {
     "base_uri": "https://localhost:8080/"
    },
    "executionInfo": {
     "elapsed": 12,
     "status": "ok",
     "timestamp": 1639886611691,
     "user": {
      "displayName": "Akshita Jain",
      "photoUrl": "https://lh3.googleusercontent.com/a-/AOh14GhRl4QbaRHRJmTQyBqVdXmet36llHYFgx9IQdVmtg=s64",
      "userId": "15547845487896249647"
     },
     "user_tz": -330
    },
    "id": "NVQSMkpu-_LD",
    "outputId": "f68e909c-97b3-4c4c-b0c7-6813c74ad216"
   },
   "outputs": [
    {
     "name": "stdout",
     "output_type": "stream",
     "text": [
      "\\\\oo\b\ttt\n",
      "\\pp\n"
     ]
    }
   ],
   "source": [
    "u=\"\\\\\\\\oo\\b\\ttt\\n\\\\pp\"\n",
    "print(u)"
   ]
  },
  {
   "cell_type": "code",
   "execution_count": null,
   "metadata": {
    "id": "7pzEvTxb-_Zf"
   },
   "outputs": [],
   "source": [
    "u=\"\\\\\\nnn\\ttt\\n\\nnn\\b\"\n",
    "print(u)"
   ]
  },
  {
   "cell_type": "markdown",
   "metadata": {
    "id": "RW-Xr_xPvVWC"
   },
   "source": [
    "## Home Work\n",
    "\n",
    "1.  Create a String with name as str and value as Python\n",
    "\n",
    "2.  Calculate the length of the string str\n",
    "\n",
    "3.  Find the negative and positive index of character 't' in str \n",
    "\n",
    "4.  Slice the str with start:1 stop:5 step:2 and print the output\n",
    "\n",
    "5.  Slice the str with start : -4  stop: -1 step: 1 and print the output"
   ]
  },
  {
   "cell_type": "markdown",
   "metadata": {
    "id": "lmxfIKLUIg-j"
   },
   "source": [
    "### Python string methods:\n",
    "\n",
    "* https://colab.research.google.com/drive/1RZdpQQJDpgv1JjdRuIR4Y33gtUGG-bwk?usp=sharing - string_methods_LI\n",
    "\n",
    "* https://colab.research.google.com/drive/15niqZ_cLGzmtRcd56diX_Hzh5zRxhQJq?usp=sharing "
   ]
  },
  {
   "cell_type": "markdown",
   "metadata": {
    "id": "CZGR1SOhlf56"
   },
   "source": [
    "To Know more :\n",
    "* https://www.faceprep.in/python/strings-in-python/\n",
    "* https://www.faceprep.in/python/string-slicing-in-python/ \n",
    "* https://docs.python.org/3/library/stdtypes.html#str \n",
    "* https://docs.python.org/3/library/stdtypes.html#text-sequence-type-str \n",
    "* https://codewithharry.com/videos/python-tutorials-for-absolute-beginners-8 \n",
    "\n"
   ]
  }
 ],
 "metadata": {
  "colab": {
   "collapsed_sections": [],
   "name": "3.1 Strings_LI.ipynb",
   "provenance": []
  },
  "kernelspec": {
   "display_name": "Python 3 (ipykernel)",
   "language": "python",
   "name": "python3"
  },
  "language_info": {
   "codemirror_mode": {
    "name": "ipython",
    "version": 3
   },
   "file_extension": ".py",
   "mimetype": "text/x-python",
   "name": "python",
   "nbconvert_exporter": "python",
   "pygments_lexer": "ipython3",
   "version": "3.10.9"
  }
 },
 "nbformat": 4,
 "nbformat_minor": 1
}
